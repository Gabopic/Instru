{
 "cells": [
  {
   "cell_type": "code",
   "execution_count": 1,
   "id": "e025a03b-8509-4f28-b16c-94fd8edb2f0d",
   "metadata": {
    "tags": []
   },
   "outputs": [],
   "source": [
    "from photutils.segmentation import (SourceCatalog, deblend_sources, detect_sources, detect_threshold)\n",
    "from astropy.io import fits\n",
    "from matplotlib import pyplot as plt\n",
    "import numpy as np"
   ]
  },
  {
   "cell_type": "code",
   "execution_count": 2,
   "id": "b63310fc-f6a6-43c4-9356-9997df96bd7c",
   "metadata": {
    "tags": []
   },
   "outputs": [
    {
     "data": {
      "text/plain": [
       "SIMPLE  =                    T / file does conform to FITS standard             \n",
       "BITPIX  =                   16 / number of bits per data pixel                  \n",
       "NAXIS   =                    2 / number of data axes                            \n",
       "NAXIS1  =                 4096 / length of data axis 1                          \n",
       "NAXIS2  =                 4096 / length of data axis 2                          \n",
       "EXTEND  =                    T / FITS dataset may contain extensions            \n",
       "COMMENT   FITS (Flexible Image Transport System) format is defined in 'Astronomy\n",
       "COMMENT   and Astrophysics', volume 376, page 359; bibcode: 2001A&A...376..359H \n",
       "BZERO   =                32768 / offset data range to that of unsigned short    \n",
       "BSCALE  =                    1 / default scaling factor                         \n",
       "OBSERVER= 'CAmus, Rodriguez, Morales, Guerrero' / SBIGFITSEXT The name of the ob\n",
       "ORIGIN  = 'MAS500  '           / Description of location                        \n",
       "TELESCOP= 'MAS500  '           / SBIGFITSEXT The model Telescope                \n",
       "FOCALLEN=                6500. / SBIGFITSEXT Telescope focal length in mm       \n",
       "APTDIA  =                 500. / SBIGFITSEXT Aperture diameter in mm            \n",
       "SBUUID  = '{90e0c4d9-2845-44a6-aab6-6a605e90bb48}' / Photo UUID                 \n",
       "EXPTIME =                   9. / SBIGFITSEXT Total exposure time in seconds     \n",
       "SWCREATE= 'TheSkyX Version 10.5.0 Build 12545' / SBIGFITSEXT Name & version of s\n",
       "COLORCCD=                    0 / Non zero if image is from a Bayer color ccd    \n",
       "DISPINCR=                    1 / Non zero to automatically display the image in \n",
       "PICTTYPE=                    1 / Image type as index 0= Unknown 1=Light, 2=Bias,\n",
       "IMAGETYP= 'Light Frame'        / SBIGFITSEXT Light, Dark, Bias or Flat          \n",
       "XORGSUBF=                    0 / SBIGFITSEXT Subframe x upper-left pixel in bin \n",
       "YORGSUBF=                    0 / SBIGFITSEXT Subframe y upper-left pixel in bin \n",
       "XBINNING=                    1 / SBIGFITSEXT Binning factor in width            \n",
       "YBINNING=                    1 / SBIGFITSEXT Binning factor in height           \n",
       "CCD-TEMP=                -24.8 / SBIGFITSEXT Temperature of the CCD             \n",
       "SET-TEMP=                 -25. / SBIGFITSEXT The cooler setpoint in degrees C   \n",
       "SITELAT = '-33 25 34.61'       / SBIGFITSEXT Latitude of the imaging location   \n",
       "SITELONG= '+70 33 59.62'       / SBIGFITSEXT Longitude of the imaging location  \n",
       "LST     = '+23 48 40.34'       / Local sidereal time                            \n",
       "OBSGEO-B=            -33.42628 / Latitude of the observation in degrees, North +\n",
       "OBSGEO-L=            -70.56656 / Longitude of the observation in degrees, East +\n",
       "OBSGEO-H=                1500. / Altitude of the observation in meters          \n",
       "BTP     =                    1 / Beyond the pole                                \n",
       "CENTAZ  =    0.774434295443939 / SBIGFITSEXT Azimuth of the center of the image \n",
       "CENTALT =     54.2446890815905 / SBIGFITSEXT Altitude of the center of the image\n",
       "AIRMASS =      1.2322507488657 / Airmass of the telescope                       \n",
       "TELEHA  = '-00 01 48.69'       / Telescope hour angle                           \n",
       "MOUNT   = 'ASCOM Mount'        / The telescope mount                            \n",
       "OBJCTRA = '23 49 15.320'       / SBIGFITSEXT The right ascension of the center o\n",
       "OBJCTDEC= '+02 11 34.97'       / SBIGFITSEXT The declination of the center of th\n",
       "OBJECT  = 'HIP 117445'         / SBIGFITSEXT The name of the object imaged      \n",
       "INSTRUME= 'Gx/Cx USB'          / SBIGFITSEXT The model camera used.             \n",
       "XPIXSZ  =                   9. / SBIGFITSEXT Pixel width in microns after binnin\n",
       "YPIXSZ  =                   9. / SBIGFITSEXT Pixel height in microns after binni\n",
       "FOCPOS  =                2085. / The focuser position.                          \n",
       "FOCTEMP =     9.00021553039551 / The focuser temperature in degrees C.          \n",
       "FOCTMPSC= 'Focuser (Default)'  / The focuser temperature source.                \n",
       "FILTER  = 'B       '           / SBIGFITSEXT The optical filter used to take ima\n",
       "DATE-OBS= '2023-10-06T03:32:46.475' / SBIGFITSEXT UTC of start exp. in ISO 8601 \n",
       "GAIN    =    0.850000023841858 / Camera gain in e-/ADU                          "
      ]
     },
     "execution_count": 2,
     "metadata": {},
     "output_type": "execute_result"
    }
   ],
   "source": [
    "#Abrimos el fits\n",
    "imagen = fits.open('fotito.fit')[0]\n",
    "#Extraemos la data y el header\n",
    "data = imagen.data\n",
    "header = imagen.header\n",
    "header"
   ]
  },
  {
   "cell_type": "code",
   "execution_count": 3,
   "id": "cc368250-99d1-44db-bdc1-4a0c887b388c",
   "metadata": {
    "tags": []
   },
   "outputs": [
    {
     "data": {
      "text/plain": [
       "<photutils.segmentation.core.SegmentationImage>\n",
       "shape: (4096, 4096)\n",
       "nlabels: 8\n",
       "labels: [1 2 3 4 5 6 7 8]"
      ]
     },
     "execution_count": 3,
     "metadata": {},
     "output_type": "execute_result"
    }
   ],
   "source": [
    "#Obtenemos el \"umbral\" que utilizaremos para detectar las fuentes\n",
    "threshold = detect_threshold(data, nsigma=5)\n",
    "#Utilizamos el umbral y la imagen para detectar fuentes\n",
    "sour = detect_sources(data, threshold, npixels=50)\n",
    "#Mostramos el número de fuentes detectadas\n",
    "sour"
   ]
  },
  {
   "cell_type": "code",
   "execution_count": 4,
   "id": "63f788ac-0fb3-4dd3-90e3-6ea04c4e2748",
   "metadata": {
    "tags": []
   },
   "outputs": [
    {
     "data": {
      "image/png": "[encoded data removed]",
      "text/plain": [
       "<Figure size 1000x1000 with 1 Axes>"
      ]
     },
     "metadata": {},
     "output_type": "display_data"
    }
   ],
   "source": [
    "#Generamos un mapa de colores que asocia un color a cada fuente\n",
    "cmap_sour = sour.make_cmap(seed=123)\n",
    "#Mostramos las fuentes obtenidas\n",
    "fig, ax = plt.subplots(1, 1, figsize=(10,10))\n",
    "ax.imshow(sour, origin='lower', cmap=cmap_sour, interpolation='nearest')\n",
    "plt.show()\n"
   ]
  },
  {
   "cell_type": "code",
   "execution_count": 5,
   "id": "c595124e-b944-42bf-bad5-a399b66d78de",
   "metadata": {
    "tags": []
   },
   "outputs": [
    {
     "name": "stderr",
     "output_type": "stream",
     "text": [
      "C:\\Users\\aleja\\anaconda3\\Lib\\site-packages\\paramiko\\transport.py:219: CryptographyDeprecationWarning: Blowfish has been deprecated\n",
      "  \"class\": algorithms.Blowfish,\n"
     ]
    },
    {
     "data": {
      "text/html": [
       "<div><i>QTable length=8</i>\n",
       "<table id=\"table2893480381584\" class=\"table-striped table-bordered table-condensed\">\n",
       "<thead><tr><th>label</th><th>xcentroid</th><th>ycentroid</th><th>sky_centroid</th><th>bbox_xmin</th><th>bbox_xmax</th><th>bbox_ymin</th><th>bbox_ymax</th><th>area</th><th>semimajor_sigma</th><th>semiminor_sigma</th><th>orientation</th><th>eccentricity</th><th>min_value</th><th>max_value</th><th>local_background</th><th>segment_flux</th><th>segment_fluxerr</th><th>kron_flux</th><th>kron_fluxerr</th></tr></thead>\n",
       "<thead><tr><th></th><th></th><th></th><th></th><th></th><th></th><th></th><th></th><th>pix2</th><th>pix</th><th>pix</th><th>deg</th><th></th><th></th><th></th><th></th><th></th><th></th><th></th><th></th></tr></thead>\n",
       "<thead><tr><th>int32</th><th>float64</th><th>float64</th><th>object</th><th>int32</th><th>int32</th><th>int32</th><th>int32</th><th>float64</th><th>float64</th><th>float64</th><th>float64</th><th>float64</th><th>float64</th><th>float64</th><th>float64</th><th>float64</th><th>float64</th><th>float64</th><th>float64</th></tr></thead>\n",
       "<tr><td>1</td><td>3166.7081474629626</td><td>14.209945245945663</td><td>None</td><td>3157</td><td>3176</td><td>3</td><td>24</td><td>307.0</td><td>4.559406000721969</td><td>4.370575172823303</td><td>-67.52021105153923</td><td>0.2848088326717226</td><td>116.0</td><td>696.0</td><td>0.0</td><td>67027.0</td><td>nan</td><td>326945.8117169631</td><td>nan</td></tr>\n",
       "<tr><td>2</td><td>3777.8464124190195</td><td>1011.3084586236401</td><td>None</td><td>3770</td><td>3784</td><td>1005</td><td>1017</td><td>118.0</td><td>3.7663641840520503</td><td>2.6963205717697623</td><td>-18.38695830453277</td><td>0.6982081502510717</td><td>116.0</td><td>230.0</td><td>0.0</td><td>16362.0</td><td>nan</td><td>264585.5364377883</td><td>nan</td></tr>\n",
       "<tr><td>3</td><td>1939.9958152129318</td><td>1095.4462131779765</td><td>None</td><td>1933</td><td>1945</td><td>1089</td><td>1100</td><td>91.0</td><td>3.2697536861827414</td><td>2.5617433084125816</td><td>-6.744243573805334</td><td>0.6214337009275804</td><td>116.0</td><td>197.0</td><td>0.0</td><td>12187.0</td><td>nan</td><td>225212.95586908323</td><td>nan</td></tr>\n",
       "<tr><td>4</td><td>2731.2523102075634</td><td>1607.4382996872334</td><td>None</td><td>2724</td><td>2738</td><td>1599</td><td>1614</td><td>171.0</td><td>3.6642976940307683</td><td>3.386731304210604</td><td>18.89790691022775</td><td>0.3817850686996743</td><td>116.0</td><td>354.0</td><td>0.0</td><td>28136.0</td><td>nan</td><td>314930.27252851106</td><td>nan</td></tr>\n",
       "<tr><td>5</td><td>2042.0880315022428</td><td>2036.0369029672902</td><td>None</td><td>2017</td><td>2066</td><td>2011</td><td>2067</td><td>1726.0</td><td>5.613673640682258</td><td>5.405429308756714</td><td>-71.80727981167156</td><td>0.26984386853565406</td><td>116.0</td><td>31592.0</td><td>0.0</td><td>2268029.0</td><td>nan</td><td>2201873.053785172</td><td>nan</td></tr>\n",
       "<tr><td>6</td><td>3709.029761448186</td><td>2703.8569456163227</td><td>None</td><td>3702</td><td>3715</td><td>2697</td><td>2709</td><td>97.0</td><td>3.2684029689087395</td><td>2.932722805249435</td><td>19.623376929974572</td><td>0.44143067888345655</td><td>116.0</td><td>219.0</td><td>0.0</td><td>13037.0</td><td>nan</td><td>252993.52125098067</td><td>nan</td></tr>\n",
       "<tr><td>7</td><td>467.2183976972895</td><td>3434.9918445670423</td><td>None</td><td>463</td><td>471</td><td>3429</td><td>3440</td><td>60.0</td><td>2.8381221696186016</td><td>1.8421999076981264</td><td>74.57171214027159</td><td>0.7607106633918194</td><td>116.0</td><td>201.0</td><td>0.0</td><td>8338.0</td><td>nan</td><td>141278.06817213167</td><td>nan</td></tr>\n",
       "<tr><td>8</td><td>3191.7396326073513</td><td>4092.186504421081</td><td>None</td><td>3176</td><td>3208</td><td>4083</td><td>4095</td><td>251.0</td><td>6.109110974614785</td><td>2.86909592859523</td><td>-1.7453243280858122</td><td>0.882856876212464</td><td>116.0</td><td>1578.0</td><td>0.0</td><td>59827.0</td><td>nan</td><td>224061.72079481225</td><td>nan</td></tr>\n",
       "</table></div>"
      ],
      "text/plain": [
       "<QTable length=8>\n",
       "label     xcentroid          ycentroid      ...     kron_flux      kron_fluxerr\n",
       "                                            ...                                \n",
       "int32      float64            float64       ...      float64         float64   \n",
       "----- ------------------ ------------------ ... ------------------ ------------\n",
       "    1 3166.7081474629626 14.209945245945663 ...  326945.8117169631          nan\n",
       "    2 3777.8464124190195 1011.3084586236401 ...  264585.5364377883          nan\n",
       "    3 1939.9958152129318 1095.4462131779765 ... 225212.95586908323          nan\n",
       "    4 2731.2523102075634 1607.4382996872334 ... 314930.27252851106          nan\n",
       "    5 2042.0880315022428 2036.0369029672902 ...  2201873.053785172          nan\n",
       "    6  3709.029761448186 2703.8569456163227 ... 252993.52125098067          nan\n",
       "    7  467.2183976972895 3434.9918445670423 ... 141278.06817213167          nan\n",
       "    8 3191.7396326073513  4092.186504421081 ... 224061.72079481225          nan"
      ]
     },
     "execution_count": 5,
     "metadata": {},
     "output_type": "execute_result"
    }
   ],
   "source": [
    "#Obtenemos el catálogo\n",
    "cat = SourceCatalog(data, sour)\n",
    "#Lo pasamos a tabla y lo mostramos\n",
    "tbl = cat.to_table()\n",
    "tbl"
   ]
  },
  {
   "cell_type": "code",
   "execution_count": 6,
   "id": "cb207926-e3fd-441c-9526-683adea9a39b",
   "metadata": {},
   "outputs": [
    {
     "data": {
      "text/html": [
       "<div><i>QTable length=8</i>\n",
       "<table id=\"table2893856244496\" class=\"table-striped table-bordered table-condensed\">\n",
       "<thead><tr><th>label</th><th>xcentroid</th><th>ycentroid</th><th>area</th><th>segment_flux</th></tr></thead>\n",
       "<thead><tr><th></th><th></th><th></th><th>pix2</th><th></th></tr></thead>\n",
       "<thead><tr><th>int32</th><th>float64</th><th>float64</th><th>float64</th><th>float64</th></tr></thead>\n",
       "<tr><td>1</td><td>3166.7081474629626</td><td>14.209945245945663</td><td>307.0</td><td>67027.0</td></tr>\n",
       "<tr><td>2</td><td>3777.8464124190195</td><td>1011.3084586236401</td><td>118.0</td><td>16362.0</td></tr>\n",
       "<tr><td>3</td><td>1939.9958152129318</td><td>1095.4462131779765</td><td>91.0</td><td>12187.0</td></tr>\n",
       "<tr><td>4</td><td>2731.2523102075634</td><td>1607.4382996872334</td><td>171.0</td><td>28136.0</td></tr>\n",
       "<tr><td>5</td><td>2042.0880315022428</td><td>2036.0369029672902</td><td>1726.0</td><td>2268029.0</td></tr>\n",
       "<tr><td>6</td><td>3709.029761448186</td><td>2703.8569456163227</td><td>97.0</td><td>13037.0</td></tr>\n",
       "<tr><td>7</td><td>467.2183976972895</td><td>3434.9918445670423</td><td>60.0</td><td>8338.0</td></tr>\n",
       "<tr><td>8</td><td>3191.7396326073513</td><td>4092.186504421081</td><td>251.0</td><td>59827.0</td></tr>\n",
       "</table></div>"
      ],
      "text/plain": [
       "<QTable length=8>\n",
       "label     xcentroid          ycentroid        area  segment_flux\n",
       "                                              pix2              \n",
       "int32      float64            float64       float64   float64   \n",
       "----- ------------------ ------------------ ------- ------------\n",
       "    1 3166.7081474629626 14.209945245945663   307.0      67027.0\n",
       "    2 3777.8464124190195 1011.3084586236401   118.0      16362.0\n",
       "    3 1939.9958152129318 1095.4462131779765    91.0      12187.0\n",
       "    4 2731.2523102075634 1607.4382996872334   171.0      28136.0\n",
       "    5 2042.0880315022428 2036.0369029672902  1726.0    2268029.0\n",
       "    6  3709.029761448186 2703.8569456163227    97.0      13037.0\n",
       "    7  467.2183976972895 3434.9918445670423    60.0       8338.0\n",
       "    8 3191.7396326073513  4092.186504421081   251.0      59827.0"
      ]
     },
     "execution_count": 6,
     "metadata": {},
     "output_type": "execute_result"
    }
   ],
   "source": [
    "tabla = tbl['label', 'xcentroid', 'ycentroid', 'area', 'segment_flux']\n",
    "tabla"
   ]
  },
  {
   "cell_type": "code",
   "execution_count": 7,
   "id": "59079c68-b089-4968-a793-1f31cabedfb1",
   "metadata": {
    "tags": []
   },
   "outputs": [
    {
     "data": {
      "text/html": [
       "<div><i>QTable length=8</i>\n",
       "<table id=\"table2893856244496\" class=\"table-striped table-bordered table-condensed\">\n",
       "<thead><tr><th>label</th><th>xcentroid</th><th>ycentroid</th><th>area</th><th>segment_flux</th></tr></thead>\n",
       "<thead><tr><th></th><th></th><th></th><th>pix2</th><th></th></tr></thead>\n",
       "<thead><tr><th>int32</th><th>float64</th><th>float64</th><th>float64</th><th>float64</th></tr></thead>\n",
       "<tr><td>1</td><td>3166.7081474629626</td><td>14.209945245945663</td><td>307.0</td><td>7447.444444444444</td></tr>\n",
       "<tr><td>2</td><td>3777.8464124190195</td><td>1011.3084586236401</td><td>118.0</td><td>1818.0</td></tr>\n",
       "<tr><td>3</td><td>1939.9958152129318</td><td>1095.4462131779765</td><td>91.0</td><td>1354.111111111111</td></tr>\n",
       "<tr><td>4</td><td>2731.2523102075634</td><td>1607.4382996872334</td><td>171.0</td><td>3126.222222222222</td></tr>\n",
       "<tr><td>5</td><td>2042.0880315022428</td><td>2036.0369029672902</td><td>1726.0</td><td>252003.22222222222</td></tr>\n",
       "<tr><td>6</td><td>3709.029761448186</td><td>2703.8569456163227</td><td>97.0</td><td>1448.5555555555557</td></tr>\n",
       "<tr><td>7</td><td>467.2183976972895</td><td>3434.9918445670423</td><td>60.0</td><td>926.4444444444445</td></tr>\n",
       "<tr><td>8</td><td>3191.7396326073513</td><td>4092.186504421081</td><td>251.0</td><td>6647.444444444444</td></tr>\n",
       "</table></div>"
      ],
      "text/plain": [
       "<QTable length=8>\n",
       "label     xcentroid          ycentroid        area     segment_flux   \n",
       "                                              pix2                    \n",
       "int32      float64            float64       float64      float64      \n",
       "----- ------------------ ------------------ ------- ------------------\n",
       "    1 3166.7081474629626 14.209945245945663   307.0  7447.444444444444\n",
       "    2 3777.8464124190195 1011.3084586236401   118.0             1818.0\n",
       "    3 1939.9958152129318 1095.4462131779765    91.0  1354.111111111111\n",
       "    4 2731.2523102075634 1607.4382996872334   171.0  3126.222222222222\n",
       "    5 2042.0880315022428 2036.0369029672902  1726.0 252003.22222222222\n",
       "    6  3709.029761448186 2703.8569456163227    97.0 1448.5555555555557\n",
       "    7  467.2183976972895 3434.9918445670423    60.0  926.4444444444445\n",
       "    8 3191.7396326073513  4092.186504421081   251.0  6647.444444444444"
      ]
     },
     "execution_count": 7,
     "metadata": {},
     "output_type": "execute_result"
    }
   ],
   "source": [
    "#Dividimos el \"flujo\" por el tiempo de exposición (para obtener de verdad el flujo xd)\n",
    "tabla['segment_flux'] = tabla['segment_flux']/header['EXPTIME']\n",
    "tabla"
   ]
  },
  {
   "cell_type": "code",
   "execution_count": 8,
   "id": "a7ecb1e5-1256-4ebe-8dc3-55885bcb6444",
   "metadata": {
    "tags": []
   },
   "outputs": [
    {
     "data": {
      "text/html": [
       "<div><i>QTable length=8</i>\n",
       "<table id=\"table2893856244496\" class=\"table-striped table-bordered table-condensed\">\n",
       "<thead><tr><th>label</th><th>xcentroid</th><th>ycentroid</th><th>area</th><th>segment_flux</th><th>magnitude</th></tr></thead>\n",
       "<thead><tr><th></th><th></th><th></th><th>pix2</th><th></th><th></th></tr></thead>\n",
       "<thead><tr><th>int32</th><th>float64</th><th>float64</th><th>float64</th><th>float64</th><th>float64</th></tr></thead>\n",
       "<tr><td>1</td><td>3166.7081474629626</td><td>14.209945245945663</td><td>307.0</td><td>7447.444444444444</td><td>15.803927320182748</td></tr>\n",
       "<tr><td>2</td><td>3777.8464124190195</td><td>1011.3084586236401</td><td>118.0</td><td>1818.0</td><td>19.32926219567627</td></tr>\n",
       "<tr><td>3</td><td>1939.9958152129318</td><td>1095.4462131779765</td><td>91.0</td><td>1354.111111111111</td><td>20.065741603801623</td></tr>\n",
       "<tr><td>4</td><td>2731.2523102075634</td><td>1607.4382996872334</td><td>171.0</td><td>3126.222222222222</td><td>17.974041390475833</td></tr>\n",
       "<tr><td>5</td><td>2042.0880315022428</td><td>2036.0369029672902</td><td>1726.0</td><td>252003.22222222222</td><td>7.0</td></tr>\n",
       "<tr><td>6</td><td>3709.029761448186</td><td>2703.8569456163227</td><td>97.0</td><td>1448.5555555555557</td><td>19.89718745670343</td></tr>\n",
       "<tr><td>7</td><td>467.2183976972895</td><td>3434.9918445670423</td><td>60.0</td><td>926.4444444444445</td><td>21.014607679758523</td></tr>\n",
       "<tr><td>8</td><td>3191.7396326073513</td><td>4092.186504421081</td><td>251.0</td><td>6647.444444444444</td><td>16.088023468216065</td></tr>\n",
       "</table></div>"
      ],
      "text/plain": [
       "<QTable length=8>\n",
       "label     xcentroid      ...    segment_flux        magnitude     \n",
       "                         ...                                      \n",
       "int32      float64       ...      float64            float64      \n",
       "----- ------------------ ... ------------------ ------------------\n",
       "    1 3166.7081474629626 ...  7447.444444444444 15.803927320182748\n",
       "    2 3777.8464124190195 ...             1818.0  19.32926219567627\n",
       "    3 1939.9958152129318 ...  1354.111111111111 20.065741603801623\n",
       "    4 2731.2523102075634 ...  3126.222222222222 17.974041390475833\n",
       "    5 2042.0880315022428 ... 252003.22222222222                7.0\n",
       "    6  3709.029761448186 ... 1448.5555555555557  19.89718745670343\n",
       "    7  467.2183976972895 ...  926.4444444444445 21.014607679758523\n",
       "    8 3191.7396326073513 ...  6647.444444444444 16.088023468216065"
      ]
     },
     "execution_count": 8,
     "metadata": {},
     "output_type": "execute_result"
    }
   ],
   "source": [
    "#Buscamos la fuente que es la estrella (mayor área)\n",
    "estrella_index = np.argmax(tabla['area'])\n",
    "#Obtenemos su flujo\n",
    "flux_estrella = tabla['segment_flux'][estrella_index]\n",
    "#Calculamos la magnitud medida\n",
    "mag_1 = -2.5*np.log(flux_estrella)\n",
    "#Obtenemos el zeropoint\n",
    "zeropoint = 7 - mag_1\n",
    "#Usamos el zeropoint para obtener la magnitud calibrada\n",
    "tabla['magnitude'] = zeropoint - 2.5*np.log(tabla['segment_flux'])\n",
    "tabla"
   ]
  },
  {
   "cell_type": "code",
   "execution_count": 9,
   "id": "09210d7a-28ac-4a38-b684-75e93d91ee8f",
   "metadata": {
    "tags": []
   },
   "outputs": [
    {
     "data": {
      "text/plain": [
       "38.09299288251983"
      ]
     },
     "execution_count": 9,
     "metadata": {},
     "output_type": "execute_result"
    }
   ],
   "source": [
    "zeropoint"
   ]
  }
 ],
 "metadata": {
  "kernelspec": {
   "display_name": "Python 3 (ipykernel)",
   "language": "python",
   "name": "python3"
  },
  "language_info": {
   "codemirror_mode": {
    "name": "ipython",
    "version": 3
   },
   "file_extension": ".py",
   "mimetype": "text/x-python",
   "name": "python",
   "nbconvert_exporter": "python",
   "pygments_lexer": "ipython3",
   "version": "3.9.7"
  }
 },
 "nbformat": 4,
 "nbformat_minor": 5
}
